{
 "cells": [
  {
   "cell_type": "code",
   "execution_count": 1,
   "id": "722b6936",
   "metadata": {},
   "outputs": [],
   "source": [
    "import json\n",
    "import pandas as pd\n",
    "from typing import Dict, List, Any\n",
    "\n",
    "from draco import Draco\n",
    "\n",
    "import numpy as np\n",
    "from sklearn import svm\n",
    "\n",
    "from draco.data_utils import pairs_to_vec"
   ]
  },
  {
   "cell_type": "code",
   "execution_count": 2,
   "id": "d09b2e9d",
   "metadata": {},
   "outputs": [],
   "source": [
    "default_draco = Draco()"
   ]
  },
  {
   "cell_type": "code",
   "execution_count": 3,
   "id": "8a3a75a8",
   "metadata": {},
   "outputs": [],
   "source": [
    "def train_model(data: pd.DataFrame, test_size: float = 0.3, C: float = 1, quiet=False):\n",
    "\n",
    "    X_train = data.negative - data.positive\n",
    "\n",
    "    size = len(X_train)\n",
    "\n",
    "    y_train = np.ones(size)\n",
    "\n",
    "    # flip a few examples at random\n",
    "    idx = np.ones(size, dtype=bool)\n",
    "    idx[: int(size / 2)] = False\n",
    "    np.random.shuffle(idx)\n",
    "\n",
    "    X_train[idx] = -X_train[idx]\n",
    "    y_train[idx] = -y_train[idx]\n",
    "\n",
    "    clf = svm.LinearSVC(C=C, fit_intercept=False)\n",
    "    clf.fit(X_train, y_train)\n",
    "\n",
    "    if not quiet:\n",
    "        print(\"Train score: \", clf.score(X_train, y_train))\n",
    "        if test_size > 0:\n",
    "            print(\"Dev score: \", clf.score(X_dev, np.ones(len(X_dev))))\n",
    "\n",
    "    return clf"
   ]
  },
  {
   "cell_type": "code",
   "execution_count": 4,
   "id": "227b7470",
   "metadata": {},
   "outputs": [],
   "source": [
    "def pos_neg_diff(pos_softs, neg_softs):\n",
    "    \n",
    "    soft_diff = {'pos_only': [], 'neg_only': []}\n",
    "    \n",
    "    for soft in pos_softs:\n",
    "        if soft not in neg_softs:\n",
    "            soft_diff['pos_only'].append(soft)\n",
    "        \n",
    "    for soft in neg_softs:\n",
    "        if soft not in pos_softs:\n",
    "            soft_diff['neg_only'].append(soft)\n",
    "    \n",
    "    return soft_diff"
   ]
  },
  {
   "cell_type": "code",
   "execution_count": 5,
   "id": "5f3657ea",
   "metadata": {},
   "outputs": [
    {
     "name": "stderr",
     "output_type": "stream",
     "text": [
      "INFO:draco.data_utils:Running 7 partitions of 67 items             in parallel on 7 processes.\n",
      "INFO:draco.data_utils:Hash of dataframe: -4974278561204272358\n"
     ]
    },
    {
     "name": "stdout",
     "output_type": "stream",
     "text": [
      "Train score:  1.0\n",
      "#const aggregate_weight = 0.\n",
      "#const aggregate_count_weight = 0.\n",
      "#const aggregate_group_by_raw_weight = 0.\n",
      "#const aggregate_max_weight = 0.\n",
      "#const aggregate_mean_weight = 0.\n",
      "#const aggregate_median_weight = 0.\n",
      "#const aggregate_min_weight = 0.\n",
      "#const aggregate_no_discrete_weight = 0.\n",
      "#const aggregate_stdev_weight = 0.\n",
      "#const aggregate_sum_weight = 0.\n",
      "#const bin_weight = 0.\n",
      "#const bin_high_weight = 0.\n",
      "#const bin_low_weight = 0.\n",
      "#const bin_low_unique_weight = 0.\n",
      "#const bin_not_linear_weight = 0.\n",
      "#const binned_orientation_not_x_weight = 0.\n",
      "#const c_c_area_weight = 0.\n",
      "#const c_c_line_weight = 0.\n",
      "#const c_c_point_weight = 0.\n",
      "#const c_c_text_weight = 0.\n",
      "#const c_d_col_weight = 0.\n",
      "#const c_d_no_overlap_area_weight = 0.\n",
      "#const c_d_no_overlap_bar_weight = 0.\n",
      "#const c_d_no_overlap_line_weight = 0.\n",
      "#const c_d_no_overlap_point_weight = 0.\n",
      "#const c_d_no_overlap_text_weight = 0.\n",
      "#const c_d_no_overlap_tick_weight = 0.\n",
      "#const c_d_overlap_area_weight = 0.\n",
      "#const c_d_overlap_bar_weight = -343.\n",
      "#const c_d_overlap_line_weight = 0.\n",
      "#const c_d_overlap_point_weight = 0.\n",
      "#const c_d_overlap_text_weight = 0.\n",
      "#const c_d_overlap_tick_weight = 0.\n",
      "#const cartesian_coordinate_weight = -367.\n",
      "#const categorical_color_weight = 1.\n",
      "#const categorical_scale_weight = 1.\n",
      "#const color_entropy_high_weight = 0.\n",
      "#const color_entropy_low_weight = 0.\n",
      "#const continuous_not_zero_weight = -437.\n",
      "#const continuous_pos_not_zero_weight = -556.\n",
      "#const count_grt1_weight = 0.\n",
      "#const cross_zero_weight = 0.\n",
      "#const d_d_overlap_weight = 0.\n",
      "#const d_d_point_weight = 0.\n",
      "#const d_d_rect_weight = 0.\n",
      "#const d_d_text_weight = 0.\n",
      "#const date_not_x_weight = 0.\n",
      "#const date_scale_weight = 524.\n",
      "#const encoding_weight = 0.\n",
      "#const encoding_field_weight = 0.\n",
      "#const high_cardinality_categorical_grt10_weight = 0.\n",
      "#const high_cardinality_ordinal_weight = 0.\n",
      "#const high_cardinality_shape_weight = 0.\n",
      "#const high_cardinality_size_weight = 0.\n",
      "#const horizontal_scrolling_col_weight = 0.\n",
      "#const horizontal_scrolling_x_weight = 0.\n",
      "#const interesting_color_weight = 157.\n",
      "#const interesting_column_weight = 0.\n",
      "#const interesting_detail_weight = 0.\n",
      "#const interesting_row_weight = 0.\n",
      "#const interesting_shape_weight = 86.\n",
      "#const interesting_size_weight = 413.\n",
      "#const interesting_text_weight = 0.\n",
      "#const interesting_x_weight = -391.\n",
      "#const interesting_y_weight = -266.\n",
      "#const linear_color_weight = 375.\n",
      "#const linear_scale_weight = -437.\n",
      "#const linear_size_weight = -256.\n",
      "#const linear_text_weight = 0.\n",
      "#const linear_x_weight = -213.\n",
      "#const linear_y_weight = -343.\n",
      "#const log_color_weight = 0.\n",
      "#const log_scale_weight = 0.\n",
      "#const log_size_weight = 0.\n",
      "#const log_text_weight = 0.\n",
      "#const log_x_weight = 0.\n",
      "#const log_y_weight = 0.\n",
      "#const multi_non_pos_weight = 0.\n",
      "#const non_pos_used_before_pos_weight = 657.\n",
      "#const number_categorical_weight = 437.\n",
      "#const number_linear_weight = 0.\n",
      "#const only_discrete_weight = 437.\n",
      "#const only_y_weight = -266.\n",
      "#const ordinal_color_weight = -219.\n",
      "#const ordinal_detail_weight = 0.\n",
      "#const ordinal_scale_weight = 436.\n",
      "#const ordinal_shape_weight = 86.\n",
      "#const ordinal_size_weight = 669.\n",
      "#const ordinal_text_weight = 0.\n",
      "#const ordinal_x_weight = -178.\n",
      "#const ordinal_y_weight = 77.\n",
      "#const polar_coordinate_weight = 367.\n",
      "#const position_entropy_weight = 0.\n",
      "#const same_field_weight = 0.\n",
      "#const same_field_grt3_weight = 0.\n",
      "#const size_entropy_high_weight = 0.\n",
      "#const size_entropy_low_weight = 0.\n",
      "#const size_not_zero_weight = 413.\n",
      "#const skew_zero_weight = 0.\n",
      "#const stack_center_weight = 0.\n",
      "#const stack_normalize_weight = 0.\n",
      "#const stack_zero_weight = 0.\n",
      "#const summary_area_weight = 0.\n",
      "#const summary_bar_weight = 0.\n",
      "#const summary_continuous_color_weight = 0.\n",
      "#const summary_continuous_size_weight = 0.\n",
      "#const summary_continuous_text_weight = 0.\n",
      "#const summary_continuous_x_weight = 0.\n",
      "#const summary_continuous_y_weight = 0.\n",
      "#const summary_discrete_color_weight = 0.\n",
      "#const summary_discrete_detail_weight = 0.\n",
      "#const summary_discrete_shape_weight = 0.\n",
      "#const summary_discrete_size_weight = 0.\n",
      "#const summary_discrete_text_weight = 0.\n",
      "#const summary_discrete_x_weight = 0.\n",
      "#const summary_discrete_y_weight = 0.\n",
      "#const summary_facet_weight = 0.\n",
      "#const summary_line_weight = 0.\n",
      "#const summary_point_weight = 0.\n",
      "#const summary_rect_weight = 0.\n",
      "#const summary_text_weight = 0.\n",
      "#const summary_tick_weight = 0.\n",
      "#const value_agg_weight = 0.\n",
      "#const value_area_weight = 0.\n",
      "#const value_bar_weight = 1636.\n",
      "#const value_continuous_color_weight = 375.\n",
      "#const value_continuous_size_weight = -256.\n",
      "#const value_continuous_text_weight = 0.\n",
      "#const value_continuous_x_weight = -213.\n",
      "#const value_continuous_y_weight = -343.\n",
      "#const value_discrete_color_weight = -218.\n",
      "#const value_discrete_detail_weight = 0.\n",
      "#const value_discrete_shape_weight = 86.\n",
      "#const value_discrete_size_weight = 669.\n",
      "#const value_discrete_text_weight = 0.\n",
      "#const value_discrete_x_weight = -178.\n",
      "#const value_discrete_y_weight = 77.\n",
      "#const value_line_weight = 0.\n",
      "#const value_point_weight = 0.\n",
      "#const value_rect_weight = 0.\n",
      "#const value_text_weight = 0.\n",
      "#const value_tick_weight = 0.\n",
      "#const x_col_weight = 0.\n",
      "#const x_row_weight = 0.\n",
      "#const x_y_raw_weight = 0.\n",
      "#const y_col_weight = 0.\n",
      "#const y_row_weight = 0.\n"
     ]
    }
   ],
   "source": [
    "## baseline - APT\n",
    "\n",
    "baseline = {}\n",
    "\n",
    "with open(\"../draco2-training-datasets/Mackinlay1986automating(T).json\") as file:\n",
    "    i = 0\n",
    "    json_data = json.load(file)\n",
    "    \n",
    "    for pair in json_data:\n",
    "        pair[\"source\"] = \"T_Mackinlay1986automating\"\n",
    "        pair[\"pair_id\"] = f'{pair[\"source\"]}_{i}'\n",
    "        baseline[pair[\"pair_id\"]] = pair\n",
    "        i += 1\n",
    "\n",
    "baseline_train_data = pairs_to_vec(baseline)\n",
    "\n",
    "assert set(baseline_train_data.negative.columns) == set(\n",
    "    default_draco.soft_constraint_names\n",
    "), \"Feature names do not match.\"\n",
    "\n",
    "clf = train_model(baseline_train_data, test_size=0)\n",
    "\n",
    "features = baseline_train_data.negative.columns\n",
    "baseline_weights = {}\n",
    "\n",
    "for feature, weight in zip(features, clf.coef_[0]):\n",
    "    print(f\"#const {feature}_weight = {int(weight * 1000)}.\")\n",
    "    baseline_weights[f\"{feature}_weight\"] = int(weight * 1000)"
   ]
  },
  {
   "cell_type": "code",
   "execution_count": 6,
   "id": "1b893373",
   "metadata": {},
   "outputs": [
    {
     "name": "stdout",
     "output_type": "stream",
     "text": [
      "pair (a):\n",
      "diffs between pos and neg:\n",
      "{'pos_only': ['value_tick', 'c_d_no_overlap_tick'], 'neg_only': ['value_point', 'c_d_no_overlap_point']}\n",
      "pair (b):\n",
      "diffs between pos and neg:\n",
      "{'pos_only': ['value_point', 'c_d_no_overlap_point'], 'neg_only': ['value_tick', 'c_d_no_overlap_tick']}\n",
      "pair (c):\n",
      "diffs between pos and neg:\n",
      "{'pos_only': ['value_line', 'c_d_no_overlap_line'], 'neg_only': ['value_tick', 'c_d_no_overlap_tick']}\n",
      "pair (d):\n",
      "diffs between pos and neg:\n",
      "{'pos_only': ['value_tick', 'c_d_no_overlap_tick'], 'neg_only': ['value_line', 'c_d_no_overlap_line']}\n"
     ]
    }
   ],
   "source": [
    "## Loading all experimental pairs\n",
    "\n",
    "#### (a) tick mark better than point mark\n",
    "\n",
    "print (\"pair (a):\")\n",
    "tick_point = {}\n",
    "\n",
    "with open(\"./demo-data/tick_better_than_point.json\") as file:\n",
    "    json_data = json.load(file)\n",
    "    \n",
    "    for pair in json_data:\n",
    "        \n",
    "        pos_softs = default_draco.count_preferences(pair[\"positive\"])\n",
    "        neg_softs = default_draco.count_preferences(pair[\"negative\"])\n",
    "        \n",
    "        print (\"diffs between pos and neg:\")\n",
    "        print (pos_neg_diff(pos_softs, neg_softs))\n",
    "        \n",
    "        pair[\"source\"] = \"tick_point\"\n",
    "        pair[\"pair_id\"] = f'{pair[\"source\"]}_0'\n",
    "        tick_point[pair[\"pair_id\"]] = pair\n",
    "        \n",
    "        \n",
    "#### (b) point mark better than tick mark\n",
    "\n",
    "print (\"pair (b):\")\n",
    "point_tick = {}\n",
    "\n",
    "with open(\"./demo-data/point_better_than_tick.json\") as file:\n",
    "    json_data = json.load(file)\n",
    "    \n",
    "    for pair in json_data:\n",
    "        \n",
    "        pos_softs = default_draco.count_preferences(pair[\"positive\"])\n",
    "        neg_softs = default_draco.count_preferences(pair[\"negative\"])\n",
    "        \n",
    "        print (\"diffs between pos and neg:\")\n",
    "        print (pos_neg_diff(pos_softs, neg_softs))\n",
    "\n",
    "        pair[\"source\"] = \"point_tick\"\n",
    "        pair[\"pair_id\"] = f'{pair[\"source\"]}_0'\n",
    "        point_tick[pair[\"pair_id\"]] = pair\n",
    "        \n",
    "\n",
    "#### (c) line mark better than tick mark\n",
    "\n",
    "print (\"pair (c):\")\n",
    "line_tick = {}\n",
    "\n",
    "with open(\"./demo-data/line_better_than_tick.json\") as file:\n",
    "    json_data = json.load(file)\n",
    "    \n",
    "    for pair in json_data:\n",
    "        \n",
    "        pos_softs = default_draco.count_preferences(pair[\"positive\"])\n",
    "        neg_softs = default_draco.count_preferences(pair[\"negative\"])\n",
    "        \n",
    "        print (\"diffs between pos and neg:\")\n",
    "        print (pos_neg_diff(pos_softs, neg_softs))\n",
    "        \n",
    "        pair[\"source\"] = \"line_tick\"\n",
    "        pair[\"pair_id\"] = f'{pair[\"source\"]}_0'\n",
    "        line_tick[pair[\"pair_id\"]] = pair\n",
    "        \n",
    "        \n",
    "#### (d) tick mark better than line mark\n",
    "\n",
    "print (\"pair (d):\")\n",
    "tick_line = {}\n",
    "\n",
    "with open(\"./demo-data/tick_better_than_line.json\") as file:\n",
    "    json_data = json.load(file)\n",
    "    \n",
    "    for pair in json_data:\n",
    "        \n",
    "        pos_softs = default_draco.count_preferences(pair[\"positive\"])\n",
    "        neg_softs = default_draco.count_preferences(pair[\"negative\"])\n",
    "        \n",
    "        print (\"diffs between pos and neg:\")\n",
    "        print (pos_neg_diff(pos_softs, neg_softs))\n",
    "\n",
    "        pair[\"source\"] = \"tick_line\"\n",
    "        pair[\"pair_id\"] = f'{pair[\"source\"]}_0'\n",
    "        tick_line[pair[\"pair_id\"]] = pair"
   ]
  },
  {
   "cell_type": "code",
   "execution_count": 7,
   "id": "e73b68b5",
   "metadata": {},
   "outputs": [
    {
     "name": "stderr",
     "output_type": "stream",
     "text": [
      "INFO:draco.data_utils:Running 7 partitions of 68 items             in parallel on 7 processes.\n",
      "INFO:draco.data_utils:Hash of dataframe: 5458855564379537517\n"
     ]
    },
    {
     "name": "stdout",
     "output_type": "stream",
     "text": [
      "Train score:  1.0\n",
      "weight diffs between experimental and baseline:\n",
      "c_d_no_overlap_point_weight_diff = 222.\n",
      "c_d_no_overlap_tick_weight_diff = -222.\n",
      "value_point_weight_diff = 222.\n",
      "value_tick_weight_diff = -222.\n"
     ]
    }
   ],
   "source": [
    "## Exp A. Adding one pair, (a) tick mark better than point mark\n",
    "   \n",
    "combine_data = baseline | tick_point\n",
    "\n",
    "train_data = pairs_to_vec(combine_data)\n",
    "\n",
    "assert set(train_data.negative.columns) == set(\n",
    "    default_draco.soft_constraint_names\n",
    "), \"Feature names do not match.\"\n",
    "\n",
    "clf = train_model(train_data, test_size=0)\n",
    "\n",
    "features = train_data.negative.columns\n",
    "exp_a_weights = {}\n",
    "\n",
    "for feature, weight in zip(features, clf.coef_[0]):\n",
    "    exp_a_weights[f\"{feature}_weight\"] = int(weight * 1000)\n",
    "\n",
    "### weight diffs between value_tick_point and baseline\n",
    "\n",
    "print (\"weight diffs between experimental and baseline:\")\n",
    "\n",
    "for weight in baseline_weights:\n",
    "    if exp_a_weights[weight] - baseline_weights[weight] != 0:\n",
    "        print (f\"{weight}_diff = {exp_a_weights[weight] - baseline_weights[weight]}.\")\n"
   ]
  },
  {
   "cell_type": "code",
   "execution_count": 8,
   "id": "ca25a2c6",
   "metadata": {},
   "outputs": [
    {
     "name": "stderr",
     "output_type": "stream",
     "text": [
      "INFO:draco.data_utils:Running 7 partitions of 68 items             in parallel on 7 processes.\n",
      "INFO:draco.data_utils:Hash of dataframe: 686781692109865320\n"
     ]
    },
    {
     "name": "stdout",
     "output_type": "stream",
     "text": [
      "Train score:  1.0\n",
      "weight diffs between experimental and baseline:\n",
      "c_d_no_overlap_point_weight_diff = -222.\n",
      "c_d_no_overlap_tick_weight_diff = 222.\n",
      "value_point_weight_diff = -222.\n",
      "value_tick_weight_diff = 222.\n"
     ]
    }
   ],
   "source": [
    "## Exp B. Adding one pair, (b) point mark better than tick mark\n",
    "\n",
    "combine_data = baseline | point_tick\n",
    "\n",
    "train_data = pairs_to_vec(combine_data)\n",
    "\n",
    "assert set(train_data.negative.columns) == set(\n",
    "    default_draco.soft_constraint_names\n",
    "), \"Feature names do not match.\"\n",
    "\n",
    "clf = train_model(train_data, test_size=0)\n",
    "\n",
    "features = train_data.negative.columns\n",
    "exp_b_weights = {}\n",
    "\n",
    "for feature, weight in zip(features, clf.coef_[0]):\n",
    "    exp_b_weights[f\"{feature}_weight\"] = int(weight * 1000)\n",
    "\n",
    "### weight diffs between value_tick_point and baseline\n",
    "\n",
    "print (\"weight diffs between experimental and baseline:\")\n",
    "\n",
    "for weight in baseline_weights:\n",
    "    if exp_b_weights[weight] - baseline_weights[weight] != 0:\n",
    "        print (f\"{weight}_diff = {exp_b_weights[weight] - baseline_weights[weight]}.\")\n"
   ]
  },
  {
   "cell_type": "code",
   "execution_count": 9,
   "id": "c6444282",
   "metadata": {},
   "outputs": [
    {
     "name": "stderr",
     "output_type": "stream",
     "text": [
      "INFO:draco.data_utils:Running 7 partitions of 69 items             in parallel on 7 processes.\n",
      "INFO:draco.data_utils:Hash of dataframe: -7326828256015876421\n"
     ]
    },
    {
     "name": "stdout",
     "output_type": "stream",
     "text": [
      "Train score:  0.9855072463768116\n",
      "weight diffs between experimental and baseline:\n"
     ]
    }
   ],
   "source": [
    "## Exp C. Adding two completely conflicting pairs,\n",
    "## (a) tick mark better than point mark\n",
    "## (b) point mark better than tick mark\n",
    "        \n",
    "#### train the experimental model\n",
    "\n",
    "combine_data = baseline | point_tick | tick_point\n",
    "\n",
    "train_data = pairs_to_vec(combine_data)\n",
    "\n",
    "assert set(train_data.negative.columns) == set(\n",
    "    default_draco.soft_constraint_names\n",
    "), \"Feature names do not match.\"\n",
    "\n",
    "clf = train_model(train_data, test_size=0)\n",
    "\n",
    "features = train_data.negative.columns\n",
    "exp_c_weights = {}\n",
    "\n",
    "for feature, weight in zip(features, clf.coef_[0]):\n",
    "    exp_c_weights[f\"{feature}_weight\"] = int(weight * 1000)\n",
    "\n",
    "### weight diffs between value_tick_point and baseline\n",
    "\n",
    "print (\"weight diffs between experimental and baseline:\")\n",
    "\n",
    "for weight in baseline_weights:\n",
    "    if exp_c_weights[weight] - baseline_weights[weight] != 0:\n",
    "        print (f\"{weight}_diff = {exp_c_weights[weight] - baseline_weights[weight]}.\")\n"
   ]
  },
  {
   "cell_type": "code",
   "execution_count": 10,
   "id": "8c74b384",
   "metadata": {},
   "outputs": [
    {
     "name": "stderr",
     "output_type": "stream",
     "text": [
      "INFO:draco.data_utils:Running 7 partitions of 69 items             in parallel on 7 processes.\n",
      "INFO:draco.data_utils:Hash of dataframe: 1313023225701695504\n"
     ]
    },
    {
     "name": "stdout",
     "output_type": "stream",
     "text": [
      "Train score:  1.0\n",
      "weight diffs between experimental and baseline:\n",
      "c_d_no_overlap_line_weight_diff = -399.\n",
      "c_d_no_overlap_point_weight_diff = 399.\n",
      "value_line_weight_diff = -399.\n",
      "value_point_weight_diff = 399.\n"
     ]
    }
   ],
   "source": [
    "## Exp D. Adding two partially conflicting pairs,\n",
    "## (a) tick mark better than point mark\n",
    "## (c) line mark better than tick mark\n",
    "        \n",
    "#### train the experimental model\n",
    "\n",
    "combine_data = baseline | tick_point | line_tick\n",
    "\n",
    "train_data = pairs_to_vec(combine_data)\n",
    "\n",
    "assert set(train_data.negative.columns) == set(\n",
    "    default_draco.soft_constraint_names\n",
    "), \"Feature names do not match.\"\n",
    "\n",
    "clf = train_model(train_data, test_size=0)\n",
    "\n",
    "features = train_data.negative.columns\n",
    "exp_d_weights = {}\n",
    "\n",
    "for feature, weight in zip(features, clf.coef_[0]):\n",
    "    exp_d_weights[f\"{feature}_weight\"] = int(weight * 1000)\n",
    "\n",
    "### weight diffs between value_tick_point and baseline\n",
    "\n",
    "print (\"weight diffs between experimental and baseline:\")\n",
    "\n",
    "for weight in baseline_weights:\n",
    "    if exp_d_weights[weight] - baseline_weights[weight] != 0:\n",
    "        print (f\"{weight}_diff = {exp_d_weights[weight] - baseline_weights[weight]}.\")\n"
   ]
  },
  {
   "cell_type": "code",
   "execution_count": 11,
   "id": "519c78f5",
   "metadata": {},
   "outputs": [
    {
     "name": "stderr",
     "output_type": "stream",
     "text": [
      "INFO:draco.data_utils:Running 7 partitions of 69 items             in parallel on 7 processes.\n",
      "INFO:draco.data_utils:Hash of dataframe: 115619520616611218\n"
     ]
    },
    {
     "name": "stdout",
     "output_type": "stream",
     "text": [
      "Train score:  1.0\n",
      "weight diffs between experimental and baseline:\n",
      "c_d_no_overlap_line_weight_diff = 153.\n",
      "c_d_no_overlap_point_weight_diff = 153.\n",
      "c_d_no_overlap_tick_weight_diff = -307.\n",
      "value_line_weight_diff = 153.\n",
      "value_point_weight_diff = 153.\n",
      "value_tick_weight_diff = -307.\n"
     ]
    }
   ],
   "source": [
    "## Exp E. Adding two partially aggreeing pairs,\n",
    "## (a) tick mark better than point mark\n",
    "## (d) tick mark better than line mark\n",
    "        \n",
    "#### train the experimental model\n",
    "\n",
    "combine_data = baseline | tick_point | tick_line\n",
    "\n",
    "train_data = pairs_to_vec(combine_data)\n",
    "\n",
    "assert set(train_data.negative.columns) == set(\n",
    "    default_draco.soft_constraint_names\n",
    "), \"Feature names do not match.\"\n",
    "\n",
    "clf = train_model(train_data, test_size=0)\n",
    "\n",
    "features = train_data.negative.columns\n",
    "exp_e_weights = {}\n",
    "\n",
    "for feature, weight in zip(features, clf.coef_[0]):\n",
    "    exp_e_weights[f\"{feature}_weight\"] = int(weight * 1000)\n",
    "\n",
    "### weight diffs between value_tick_point and baseline\n",
    "\n",
    "print (\"weight diffs between experimental and baseline:\")\n",
    "\n",
    "for weight in baseline_weights:\n",
    "    if exp_e_weights[weight] - baseline_weights[weight] != 0:\n",
    "        print (f\"{weight}_diff = {exp_e_weights[weight] - baseline_weights[weight]}.\")"
   ]
  },
  {
   "cell_type": "code",
   "execution_count": 12,
   "id": "6ec5d818",
   "metadata": {},
   "outputs": [
    {
     "name": "stderr",
     "output_type": "stream",
     "text": [
      "INFO:draco.data_utils:Running 7 partitions of 68 items             in parallel on 7 processes.\n",
      "INFO:draco.data_utils:Hash of dataframe: 5458855564379537517\n",
      "INFO:draco.data_utils:Running 7 partitions of 69 items             in parallel on 7 processes.\n"
     ]
    },
    {
     "name": "stdout",
     "output_type": "stream",
     "text": [
      "Train score:  1.0\n",
      "Number of Duplicates: 1\n",
      "weight diffs between experimental and baseline:\n",
      "c_d_no_overlap_point_weight_diff = 222.\n",
      "c_d_no_overlap_tick_weight_diff = -222.\n",
      "value_point_weight_diff = 222.\n",
      "value_tick_weight_diff = -222.\n"
     ]
    },
    {
     "name": "stderr",
     "output_type": "stream",
     "text": [
      "INFO:draco.data_utils:Hash of dataframe: 6251636409449618566\n",
      "INFO:draco.data_utils:Running 7 partitions of 70 items             in parallel on 7 processes.\n"
     ]
    },
    {
     "name": "stdout",
     "output_type": "stream",
     "text": [
      "Train score:  1.0\n",
      "Number of Duplicates: 2\n",
      "weight diffs between experimental and baseline:\n",
      "c_d_no_overlap_point_weight_diff = 235.\n",
      "c_d_no_overlap_tick_weight_diff = -235.\n",
      "value_point_weight_diff = 235.\n",
      "value_tick_weight_diff = -235.\n"
     ]
    },
    {
     "name": "stderr",
     "output_type": "stream",
     "text": [
      "INFO:draco.data_utils:Hash of dataframe: 7425611642239902651\n",
      "INFO:draco.data_utils:Running 8 partitions of 71 items             in parallel on 8 processes.\n"
     ]
    },
    {
     "name": "stdout",
     "output_type": "stream",
     "text": [
      "Train score:  1.0\n",
      "Number of Duplicates: 3\n",
      "weight diffs between experimental and baseline:\n",
      "c_d_no_overlap_point_weight_diff = 239.\n",
      "c_d_no_overlap_tick_weight_diff = -239.\n",
      "value_point_weight_diff = 239.\n",
      "value_tick_weight_diff = -239.\n"
     ]
    },
    {
     "name": "stderr",
     "output_type": "stream",
     "text": [
      "INFO:draco.data_utils:Hash of dataframe: 391395612688587542\n",
      "INFO:draco.data_utils:Running 8 partitions of 72 items             in parallel on 8 processes.\n"
     ]
    },
    {
     "name": "stdout",
     "output_type": "stream",
     "text": [
      "Train score:  1.0\n",
      "Number of Duplicates: 4\n",
      "weight diffs between experimental and baseline:\n",
      "c_d_no_overlap_point_weight_diff = 242.\n",
      "c_d_no_overlap_tick_weight_diff = -242.\n",
      "value_point_weight_diff = 242.\n",
      "value_tick_weight_diff = -242.\n"
     ]
    },
    {
     "name": "stderr",
     "output_type": "stream",
     "text": [
      "INFO:draco.data_utils:Hash of dataframe: 5503978315985768357\n",
      "INFO:draco.data_utils:Running 8 partitions of 73 items             in parallel on 8 processes.\n"
     ]
    },
    {
     "name": "stdout",
     "output_type": "stream",
     "text": [
      "Train score:  1.0\n",
      "Number of Duplicates: 5\n",
      "weight diffs between experimental and baseline:\n",
      "c_d_no_overlap_point_weight_diff = 243.\n",
      "c_d_no_overlap_tick_weight_diff = -243.\n",
      "value_point_weight_diff = 243.\n",
      "value_tick_weight_diff = -243.\n"
     ]
    },
    {
     "name": "stderr",
     "output_type": "stream",
     "text": [
      "INFO:draco.data_utils:Hash of dataframe: 2264802361436028506\n",
      "INFO:draco.data_utils:Running 8 partitions of 74 items             in parallel on 8 processes.\n"
     ]
    },
    {
     "name": "stdout",
     "output_type": "stream",
     "text": [
      "Train score:  1.0\n",
      "Number of Duplicates: 6\n",
      "weight diffs between experimental and baseline:\n",
      "c_d_no_overlap_point_weight_diff = 244.\n",
      "c_d_no_overlap_tick_weight_diff = -244.\n",
      "value_point_weight_diff = 244.\n",
      "value_tick_weight_diff = -244.\n"
     ]
    },
    {
     "name": "stderr",
     "output_type": "stream",
     "text": [
      "INFO:draco.data_utils:Hash of dataframe: -2360825574148986852\n",
      "INFO:draco.data_utils:Running 8 partitions of 75 items             in parallel on 8 processes.\n"
     ]
    },
    {
     "name": "stdout",
     "output_type": "stream",
     "text": [
      "Train score:  1.0\n",
      "Number of Duplicates: 7\n",
      "weight diffs between experimental and baseline:\n",
      "c_d_no_overlap_point_weight_diff = 245.\n",
      "c_d_no_overlap_tick_weight_diff = -245.\n",
      "value_point_weight_diff = 245.\n",
      "value_tick_weight_diff = -245.\n"
     ]
    },
    {
     "name": "stderr",
     "output_type": "stream",
     "text": [
      "INFO:draco.data_utils:Hash of dataframe: 4568517468374860226\n",
      "INFO:draco.data_utils:Running 8 partitions of 76 items             in parallel on 8 processes.\n"
     ]
    },
    {
     "name": "stdout",
     "output_type": "stream",
     "text": [
      "Train score:  1.0\n",
      "Number of Duplicates: 8\n",
      "weight diffs between experimental and baseline:\n",
      "c_d_no_overlap_point_weight_diff = 246.\n",
      "c_d_no_overlap_tick_weight_diff = -246.\n",
      "value_point_weight_diff = 246.\n",
      "value_tick_weight_diff = -246.\n"
     ]
    },
    {
     "name": "stderr",
     "output_type": "stream",
     "text": [
      "INFO:draco.data_utils:Hash of dataframe: -8658350595044966851\n",
      "INFO:draco.data_utils:Running 8 partitions of 77 items             in parallel on 8 processes.\n"
     ]
    },
    {
     "name": "stdout",
     "output_type": "stream",
     "text": [
      "Train score:  1.0\n",
      "Number of Duplicates: 9\n",
      "weight diffs between experimental and baseline:\n",
      "c_d_no_overlap_point_weight_diff = 246.\n",
      "c_d_no_overlap_tick_weight_diff = -246.\n",
      "value_point_weight_diff = 246.\n",
      "value_tick_weight_diff = -246.\n"
     ]
    },
    {
     "name": "stderr",
     "output_type": "stream",
     "text": [
      "INFO:draco.data_utils:Hash of dataframe: -2919225643130142210\n",
      "INFO:draco.data_utils:Running 8 partitions of 78 items             in parallel on 8 processes.\n"
     ]
    },
    {
     "name": "stdout",
     "output_type": "stream",
     "text": [
      "Train score:  1.0\n",
      "Number of Duplicates: 10\n",
      "weight diffs between experimental and baseline:\n",
      "c_d_no_overlap_point_weight_diff = 246.\n",
      "c_d_no_overlap_tick_weight_diff = -246.\n",
      "value_point_weight_diff = 246.\n",
      "value_tick_weight_diff = -246.\n"
     ]
    },
    {
     "name": "stderr",
     "output_type": "stream",
     "text": [
      "INFO:draco.data_utils:Hash of dataframe: -5937616960091761719\n",
      "INFO:draco.data_utils:Running 8 partitions of 79 items             in parallel on 8 processes.\n"
     ]
    },
    {
     "name": "stdout",
     "output_type": "stream",
     "text": [
      "Train score:  1.0\n",
      "Number of Duplicates: 11\n",
      "weight diffs between experimental and baseline:\n",
      "c_d_no_overlap_point_weight_diff = 247.\n",
      "c_d_no_overlap_tick_weight_diff = -247.\n",
      "value_point_weight_diff = 247.\n",
      "value_tick_weight_diff = -247.\n"
     ]
    },
    {
     "name": "stderr",
     "output_type": "stream",
     "text": [
      "INFO:draco.data_utils:Hash of dataframe: 443406531798064538\n",
      "INFO:draco.data_utils:Running 8 partitions of 80 items             in parallel on 8 processes.\n"
     ]
    },
    {
     "name": "stdout",
     "output_type": "stream",
     "text": [
      "Train score:  1.0\n",
      "Number of Duplicates: 12\n",
      "weight diffs between experimental and baseline:\n",
      "c_d_no_overlap_point_weight_diff = 247.\n",
      "c_d_no_overlap_tick_weight_diff = -247.\n",
      "value_point_weight_diff = 247.\n",
      "value_tick_weight_diff = -247.\n"
     ]
    },
    {
     "name": "stderr",
     "output_type": "stream",
     "text": [
      "INFO:draco.data_utils:Hash of dataframe: 865646582773139422\n",
      "INFO:draco.data_utils:Running 9 partitions of 81 items             in parallel on 9 processes.\n"
     ]
    },
    {
     "name": "stdout",
     "output_type": "stream",
     "text": [
      "Train score:  1.0\n",
      "Number of Duplicates: 13\n",
      "weight diffs between experimental and baseline:\n",
      "c_d_no_overlap_point_weight_diff = 247.\n",
      "c_d_no_overlap_tick_weight_diff = -247.\n",
      "value_point_weight_diff = 247.\n",
      "value_tick_weight_diff = -247.\n"
     ]
    },
    {
     "name": "stderr",
     "output_type": "stream",
     "text": [
      "INFO:draco.data_utils:Hash of dataframe: -8219344345989737694\n",
      "INFO:draco.data_utils:Running 9 partitions of 82 items             in parallel on 9 processes.\n"
     ]
    },
    {
     "name": "stdout",
     "output_type": "stream",
     "text": [
      "Train score:  1.0\n",
      "Number of Duplicates: 14\n",
      "weight diffs between experimental and baseline:\n",
      "c_d_no_overlap_point_weight_diff = 247.\n",
      "c_d_no_overlap_tick_weight_diff = -247.\n",
      "value_point_weight_diff = 247.\n",
      "value_tick_weight_diff = -247.\n"
     ]
    },
    {
     "name": "stderr",
     "output_type": "stream",
     "text": [
      "INFO:draco.data_utils:Hash of dataframe: -8976381996989301946\n",
      "INFO:draco.data_utils:Running 9 partitions of 83 items             in parallel on 9 processes.\n"
     ]
    },
    {
     "name": "stdout",
     "output_type": "stream",
     "text": [
      "Train score:  1.0\n",
      "Number of Duplicates: 15\n",
      "weight diffs between experimental and baseline:\n",
      "c_d_no_overlap_point_weight_diff = 247.\n",
      "c_d_no_overlap_tick_weight_diff = -247.\n",
      "value_point_weight_diff = 247.\n",
      "value_tick_weight_diff = -247.\n"
     ]
    },
    {
     "name": "stderr",
     "output_type": "stream",
     "text": [
      "INFO:draco.data_utils:Hash of dataframe: -5875205649520967974\n",
      "INFO:draco.data_utils:Running 9 partitions of 84 items             in parallel on 9 processes.\n"
     ]
    },
    {
     "name": "stdout",
     "output_type": "stream",
     "text": [
      "Train score:  1.0\n",
      "Number of Duplicates: 16\n",
      "weight diffs between experimental and baseline:\n",
      "c_d_no_overlap_point_weight_diff = 248.\n",
      "c_d_no_overlap_tick_weight_diff = -248.\n",
      "value_point_weight_diff = 248.\n",
      "value_tick_weight_diff = -248.\n"
     ]
    },
    {
     "name": "stderr",
     "output_type": "stream",
     "text": [
      "INFO:draco.data_utils:Hash of dataframe: 6790581855492461075\n",
      "INFO:draco.data_utils:Running 9 partitions of 85 items             in parallel on 9 processes.\n"
     ]
    },
    {
     "name": "stdout",
     "output_type": "stream",
     "text": [
      "Train score:  1.0\n",
      "Number of Duplicates: 17\n",
      "weight diffs between experimental and baseline:\n",
      "c_d_no_overlap_point_weight_diff = 248.\n",
      "c_d_no_overlap_tick_weight_diff = -248.\n",
      "value_point_weight_diff = 248.\n",
      "value_tick_weight_diff = -248.\n"
     ]
    },
    {
     "name": "stderr",
     "output_type": "stream",
     "text": [
      "INFO:draco.data_utils:Hash of dataframe: 830111391621685920\n",
      "INFO:draco.data_utils:Running 9 partitions of 86 items             in parallel on 9 processes.\n"
     ]
    },
    {
     "name": "stdout",
     "output_type": "stream",
     "text": [
      "Train score:  1.0\n",
      "Number of Duplicates: 18\n",
      "weight diffs between experimental and baseline:\n",
      "c_d_no_overlap_point_weight_diff = 248.\n",
      "c_d_no_overlap_tick_weight_diff = -248.\n",
      "value_point_weight_diff = 248.\n",
      "value_tick_weight_diff = -248.\n"
     ]
    },
    {
     "name": "stderr",
     "output_type": "stream",
     "text": [
      "INFO:draco.data_utils:Hash of dataframe: -4978104414072188397\n",
      "INFO:draco.data_utils:Running 9 partitions of 87 items             in parallel on 9 processes.\n"
     ]
    },
    {
     "name": "stdout",
     "output_type": "stream",
     "text": [
      "Train score:  1.0\n",
      "Number of Duplicates: 19\n",
      "weight diffs between experimental and baseline:\n",
      "c_d_no_overlap_point_weight_diff = 248.\n",
      "c_d_no_overlap_tick_weight_diff = -248.\n",
      "value_point_weight_diff = 248.\n",
      "value_tick_weight_diff = -248.\n"
     ]
    },
    {
     "name": "stderr",
     "output_type": "stream",
     "text": [
      "INFO:draco.data_utils:Hash of dataframe: 6791073571483975386\n"
     ]
    },
    {
     "name": "stdout",
     "output_type": "stream",
     "text": [
      "Train score:  1.0\n",
      "Number of Duplicates: 20\n",
      "weight diffs between experimental and baseline:\n",
      "c_d_no_overlap_point_weight_diff = 248.\n",
      "c_d_no_overlap_tick_weight_diff = -248.\n",
      "value_point_weight_diff = 248.\n",
      "value_tick_weight_diff = -248.\n"
     ]
    }
   ],
   "source": [
    "## Exp F. Adding duplicate single pairs, (a) tick mark better than point mark\n",
    "\n",
    "with open(\"./demo-data/tick_better_than_point.json\") as file:\n",
    "    json_data = json.load(file)\n",
    "    \n",
    "    for j in range(1, 21):\n",
    "        i = 0\n",
    "        tick_point_duplicates = {}\n",
    "        for k in range (0, j):\n",
    "        \n",
    "            for pair in json_data:\n",
    "                pair[\"source\"] = \"tick_point\"\n",
    "                pair[\"pair_id\"] = f'{pair[\"source\"]}_{i}'\n",
    "                tick_point_duplicates[pair[\"pair_id\"]] = pair\n",
    "                i += 1\n",
    "\n",
    "        combine_data = baseline | tick_point_duplicates\n",
    "\n",
    "        train_data = pairs_to_vec(combine_data)\n",
    "\n",
    "        assert set(train_data.negative.columns) == set(\n",
    "            default_draco.soft_constraint_names\n",
    "        ), \"Feature names do not match.\"\n",
    "\n",
    "        clf = train_model(train_data, test_size=0)\n",
    "\n",
    "        features = train_data.negative.columns\n",
    "        exp_f_weights = {}\n",
    "\n",
    "        for feature, weight in zip(features, clf.coef_[0]):\n",
    "            exp_f_weights[f\"{feature}_weight\"] = int(weight * 1000)\n",
    "            \n",
    "        print (\"Number of Duplicates: \" + str(j))\n",
    "        print (\"weight diffs between experimental and baseline:\")\n",
    "\n",
    "        for weight in baseline_weights:\n",
    "            if exp_f_weights[weight] - baseline_weights[weight] != 0:\n",
    "                print (f\"{weight}_diff = {exp_f_weights[weight] - baseline_weights[weight]}.\")"
   ]
  },
  {
   "cell_type": "code",
   "execution_count": 13,
   "id": "c0639502",
   "metadata": {},
   "outputs": [
    {
     "name": "stderr",
     "output_type": "stream",
     "text": [
      "INFO:draco.data_utils:Running 7 partitions of 70 items             in parallel on 7 processes.\n",
      "INFO:draco.data_utils:Hash of dataframe: 2105804070771776553\n"
     ]
    },
    {
     "name": "stdout",
     "output_type": "stream",
     "text": [
      "Train score:  1.0\n",
      "weight diffs between experimental and baseline:\n",
      "c_d_no_overlap_line_weight_diff = -413.\n",
      "c_d_no_overlap_point_weight_diff = 429.\n",
      "c_d_no_overlap_tick_weight_diff = -16.\n",
      "value_line_weight_diff = -413.\n",
      "value_point_weight_diff = 429.\n",
      "value_tick_weight_diff = -16.\n"
     ]
    }
   ],
   "source": [
    "## Exp G.  Adding partially conflicting pairs,\n",
    "## two pairs of (a) tick mark better than point mark\n",
    "## one pair of (c) line mark better than tick mark\n",
    "        \n",
    "#### train the experimental model\n",
    "\n",
    "two_tick_point = {}\n",
    "\n",
    "with open(\"./demo-data/tick_better_than_point.json\") as file:\n",
    "    json_data = json.load(file)\n",
    "    for i in range (0, 2):\n",
    "        for pair in json_data:\n",
    "            pair[\"source\"] = \"tick_point\"\n",
    "            pair[\"pair_id\"] = f'{pair[\"source\"]}_{i}'\n",
    "            two_tick_point[pair[\"pair_id\"]] = pair\n",
    "\n",
    "combine_data = baseline | two_tick_point | line_tick           \n",
    "\n",
    "train_data = pairs_to_vec(combine_data)\n",
    "\n",
    "assert set(train_data.negative.columns) == set(\n",
    "    default_draco.soft_constraint_names\n",
    "), \"Feature names do not match.\"\n",
    "\n",
    "clf = train_model(train_data, test_size=0)\n",
    "\n",
    "features = train_data.negative.columns\n",
    "exp_d_weights = {}\n",
    "\n",
    "for feature, weight in zip(features, clf.coef_[0]):\n",
    "    exp_d_weights[f\"{feature}_weight\"] = int(weight * 1000)\n",
    "\n",
    "### weight diffs between value_tick_point and baseline\n",
    "\n",
    "print (\"weight diffs between experimental and baseline:\")\n",
    "\n",
    "for weight in baseline_weights:\n",
    "    if exp_d_weights[weight] - baseline_weights[weight] != 0:\n",
    "        print (f\"{weight}_diff = {exp_d_weights[weight] - baseline_weights[weight]}.\")"
   ]
  }
 ],
 "metadata": {
  "kernelspec": {
   "display_name": "Python 3 (ipykernel)",
   "language": "python",
   "name": "python3"
  },
  "language_info": {
   "codemirror_mode": {
    "name": "ipython",
    "version": 3
   },
   "file_extension": ".py",
   "mimetype": "text/x-python",
   "name": "python",
   "nbconvert_exporter": "python",
   "pygments_lexer": "ipython3",
   "version": "3.10.8"
  }
 },
 "nbformat": 4,
 "nbformat_minor": 5
}
